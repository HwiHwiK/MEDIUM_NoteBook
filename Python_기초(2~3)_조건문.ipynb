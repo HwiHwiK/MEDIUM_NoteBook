{
  "nbformat": 4,
  "nbformat_minor": 0,
  "metadata": {
    "colab": {
      "provenance": [],
      "collapsed_sections": [],
      "authorship_tag": "ABX9TyOYi9UBO6szvRyKdwVTnl3E",
      "include_colab_link": true
    },
    "kernelspec": {
      "name": "python3",
      "display_name": "Python 3"
    },
    "language_info": {
      "name": "python"
    }
  },
  "cells": [
    {
      "cell_type": "markdown",
      "metadata": {
        "id": "view-in-github",
        "colab_type": "text"
      },
      "source": [
        "<a href=\"https://colab.research.google.com/github/HwiHwiK/MEDIUM_NoteBook/blob/master/Python_%EA%B8%B0%EC%B4%88(2~3)_%EC%A1%B0%EA%B1%B4%EB%AC%B8.ipynb\" target=\"_parent\"><img src=\"https://colab.research.google.com/assets/colab-badge.svg\" alt=\"Open In Colab\"/></a>"
      ]
    },
    {
      "cell_type": "code",
      "execution_count": 11,
      "metadata": {
        "colab": {
          "base_uri": "https://localhost:8080/"
        },
        "id": "UVOPgnT5q6Sp",
        "outputId": "525cee13-568b-4372-8bc9-4dc968ad6ec6"
      },
      "outputs": [
        {
          "output_type": "stream",
          "name": "stdout",
          "text": [
            "0\n",
            "1\n",
            "2\n",
            "3\n",
            "4\n"
          ]
        }
      ],
      "source": [
        "# for문\n",
        "for i in range(0,5) :\n",
        "  print(i)\n",
        "# range 범위 : [,)로 이해하면 될듯\n",
        "# 들여쓰기를 하지 않으면 반복이 되지 않음"
      ]
    },
    {
      "cell_type": "code",
      "source": [
        "for i in range(0,5):\n",
        "  print(i)\n",
        "  print(i,i)"
      ],
      "metadata": {
        "colab": {
          "base_uri": "https://localhost:8080/"
        },
        "id": "NujclA5TsWAd",
        "outputId": "e1e65a20-2387-4ea8-b60d-6ba6c37b29ea"
      },
      "execution_count": 12,
      "outputs": [
        {
          "output_type": "stream",
          "name": "stdout",
          "text": [
            "0\n",
            "0 0\n",
            "1\n",
            "1 1\n",
            "2\n",
            "2 2\n",
            "3\n",
            "3 3\n",
            "4\n",
            "4 4\n"
          ]
        }
      ]
    },
    {
      "cell_type": "code",
      "source": [
        "list1 = ['a', 'b', 'c', 'd', 'e']\n",
        "for i in list1:\n",
        "  print(i)"
      ],
      "metadata": {
        "colab": {
          "base_uri": "https://localhost:8080/"
        },
        "id": "vlsoBaVZty1t",
        "outputId": "3b463a12-1e0b-44c1-d4fe-f6efda0b8ee5"
      },
      "execution_count": 13,
      "outputs": [
        {
          "output_type": "stream",
          "name": "stdout",
          "text": [
            "a\n",
            "b\n",
            "c\n",
            "d\n",
            "e\n"
          ]
        }
      ]
    },
    {
      "cell_type": "code",
      "source": [
        " # if, else\n",
        " # if 조건문\n",
        " #  수행할 문장1 ...\n",
        " # else\n",
        " #  수행할 문장...\n",
        " # else 뒤에는 조건문이 붙지 않는다!\n"
      ],
      "metadata": {
        "id": "VUfi_SNZuMQE"
      },
      "execution_count": 14,
      "outputs": []
    },
    {
      "cell_type": "code",
      "source": [
        "if 5==7:\n",
        "  print('참이네요')\n",
        "else:\n",
        "  print('거짓이네요')\n",
        "\n",
        "# 다르다 : != \n",
        "if 5!=7:\n",
        "  print('참이네요')\n",
        "else:\n",
        "  print('거짓이네요')"
      ],
      "metadata": {
        "colab": {
          "base_uri": "https://localhost:8080/"
        },
        "id": "dyrFFD0bv1Fa",
        "outputId": "0bc17e67-fd43-4a29-f71b-7047ccc798be"
      },
      "execution_count": 18,
      "outputs": [
        {
          "output_type": "stream",
          "name": "stdout",
          "text": [
            "거짓이네요\n",
            "참이네요\n"
          ]
        }
      ]
    },
    {
      "cell_type": "code",
      "source": [
        "score = 85\n",
        "if score >= 90:\n",
        "  print('A')\n",
        "elif score > 80:\n",
        "  print('B')\n",
        "elif score > 70:\n",
        "  print('C')\n",
        "else:\n",
        "  print('F')\n",
        "# elif : 그것도 아니라면 추가적인 조건을 부과하는 명령문\n",
        "# 그냥 if로 조건문을 작성할 경우 결과값은 B C 둘다 나옴"
      ],
      "metadata": {
        "colab": {
          "base_uri": "https://localhost:8080/"
        },
        "id": "40H50UDMwJVn",
        "outputId": "36af9c4a-7c43-4557-a90a-cd7ea0ab878e"
      },
      "execution_count": 22,
      "outputs": [
        {
          "output_type": "stream",
          "name": "stdout",
          "text": [
            "B\n"
          ]
        }
      ]
    },
    {
      "cell_type": "code",
      "source": [],
      "metadata": {
        "id": "q8Vf-CEgxFsv"
      },
      "execution_count": null,
      "outputs": []
    }
  ]
}